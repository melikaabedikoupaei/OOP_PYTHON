{
 "cells": [
  {
   "cell_type": "markdown",
   "id": "558b467a",
   "metadata": {},
   "source": [
    "#Encapsulation"
   ]
  },
  {
   "cell_type": "code",
   "execution_count": 3,
   "id": "e21add4e",
   "metadata": {},
   "outputs": [
    {
     "name": "stdout",
     "output_type": "stream",
     "text": [
      "200\n"
     ]
    }
   ],
   "source": [
    "class Car():\n",
    "    def __init__(self):\n",
    "        self.speed=200\n",
    "        self.color=\"red\"\n",
    "pride=Car()\n",
    "print(pride.speed)\n"
   ]
  },
  {
   "cell_type": "code",
   "execution_count": 4,
   "id": "3768ab13",
   "metadata": {},
   "outputs": [
    {
     "name": "stdout",
     "output_type": "stream",
     "text": [
      "60000\n"
     ]
    }
   ],
   "source": [
    "class Car():\n",
    "    def __init__(self):\n",
    "        self.speed=200\n",
    "        self.color=\"red\"\n",
    "pride=Car()\n",
    "pride.speed=60000\n",
    "print(pride.speed)"
   ]
  },
  {
   "cell_type": "markdown",
   "id": "0fda07d8",
   "metadata": {},
   "source": [
    "it is not coorect we do not want let this happen because every thing can set for speed"
   ]
  },
  {
   "cell_type": "code",
   "execution_count": 5,
   "id": "6eb9aa3d",
   "metadata": {},
   "outputs": [
    {
     "data": {
      "text/plain": [
       "210"
      ]
     },
     "execution_count": 5,
     "metadata": {},
     "output_type": "execute_result"
    }
   ],
   "source": [
    "class Car():\n",
    "    def __init__(self):\n",
    "        self.speed=200\n",
    "        self.color=\"red\"\n",
    "    def set_speed(self,new_speed):\n",
    "        self.speed=new_speed\n",
    "    def get_speed(self):\n",
    "        return self.speed   \n",
    "pride=Car()\n",
    "pride.set_speed(210)\n",
    "pride.get_speed()\n"
   ]
  },
  {
   "cell_type": "markdown",
   "id": "cef3fb69",
   "metadata": {},
   "source": [
    "but still we can do this"
   ]
  },
  {
   "cell_type": "code",
   "execution_count": 6,
   "id": "7b8b9f6a",
   "metadata": {},
   "outputs": [
    {
     "name": "stdout",
     "output_type": "stream",
     "text": [
      "6000\n"
     ]
    }
   ],
   "source": [
    "class Car():\n",
    "    def __init__(self):\n",
    "        self.speed=200\n",
    "        self.color=\"red\"\n",
    "    def set_speed(self,new_speed):\n",
    "        self.speed=new_speed\n",
    "    def get_speed(self):\n",
    "        return self.speed   \n",
    "pride=Car()\n",
    "pride.set_speed(210)\n",
    "pride.get_speed()\n",
    "pride.speed=6000\n",
    "print(pride.speed)"
   ]
  },
  {
   "cell_type": "markdown",
   "id": "baba1e25",
   "metadata": {},
   "source": [
    "we can use private variable for this"
   ]
  },
  {
   "cell_type": "code",
   "execution_count": 7,
   "id": "2dc29f34",
   "metadata": {},
   "outputs": [
    {
     "name": "stdout",
     "output_type": "stream",
     "text": [
      "200\n",
      "red\n"
     ]
    }
   ],
   "source": [
    "class Car():\n",
    "    def __init__(self):\n",
    "        self.speed=200\n",
    "        self._color=\"red\" # private but don't have restriction\n",
    "pride=Car()\n",
    "print(pride.speed)\n",
    "print(pride._color)\n",
    "        \n",
    "        "
   ]
  },
  {
   "cell_type": "code",
   "execution_count": 14,
   "id": "53a58b37",
   "metadata": {},
   "outputs": [
    {
     "ename": "AttributeError",
     "evalue": "'Car' object has no attribute '__color'",
     "output_type": "error",
     "traceback": [
      "\u001b[1;31m---------------------------------------------------------------------------\u001b[0m",
      "\u001b[1;31mAttributeError\u001b[0m                            Traceback (most recent call last)",
      "Cell \u001b[1;32mIn[14], line 6\u001b[0m\n\u001b[0;32m      4\u001b[0m         \u001b[38;5;28mself\u001b[39m\u001b[38;5;241m.\u001b[39m__color\u001b[38;5;241m=\u001b[39m\u001b[38;5;124m\"\u001b[39m\u001b[38;5;124mred\u001b[39m\u001b[38;5;124m\"\u001b[39m \u001b[38;5;66;03m# private and have restriction\u001b[39;00m\n\u001b[0;32m      5\u001b[0m pride\u001b[38;5;241m=\u001b[39mCar()\n\u001b[1;32m----> 6\u001b[0m \u001b[38;5;28mprint\u001b[39m(pride\u001b[38;5;241m.\u001b[39m__color)\n",
      "\u001b[1;31mAttributeError\u001b[0m: 'Car' object has no attribute '__color'"
     ]
    }
   ],
   "source": [
    "class Car():\n",
    "    def __init__(self):\n",
    "        self.speed=200\n",
    "        self.__color=\"red\" # private and have restriction\n",
    "pride=Car()\n",
    "print(pride.__color)\n",
    "        \n",
    "        "
   ]
  },
  {
   "cell_type": "code",
   "execution_count": 10,
   "id": "1e1c351a",
   "metadata": {},
   "outputs": [
    {
     "data": {
      "text/plain": [
       "210"
      ]
     },
     "execution_count": 10,
     "metadata": {},
     "output_type": "execute_result"
    }
   ],
   "source": [
    "class Car():\n",
    "    def __init__(self):\n",
    "        self.__speed=200\n",
    "        self.color=\"red\"\n",
    "    def set_speed(self,new_speed):\n",
    "        self.__speed=new_speed\n",
    "    def get_speed(self):\n",
    "        return self.__speed   \n",
    "pride=Car()\n",
    "pride.set_speed(210)\n",
    "pride.get_speed()\n"
   ]
  },
  {
   "cell_type": "code",
   "execution_count": 20,
   "id": "78c4e53c",
   "metadata": {},
   "outputs": [
    {
     "data": {
      "text/plain": [
       "210"
      ]
     },
     "execution_count": 20,
     "metadata": {},
     "output_type": "execute_result"
    }
   ],
   "source": [
    "class Car():\n",
    "    def __init__(self):\n",
    "        self.__speed=200\n",
    "        self.color=\"red\"\n",
    "    def set_speed(self,new_speed):\n",
    "        self.__speed=new_speed\n",
    "    def get_speed(self):\n",
    "        return self.__speed   \n",
    "pride=Car()\n",
    "pride.set_speed(210)\n",
    "pride.get_speed()"
   ]
  },
  {
   "cell_type": "code",
   "execution_count": null,
   "id": "453133df",
   "metadata": {},
   "outputs": [],
   "source": [
    "#it is getter and setter def"
   ]
  },
  {
   "cell_type": "code",
   "execution_count": 25,
   "id": "97c775c6",
   "metadata": {},
   "outputs": [
    {
     "ename": "AttributeError",
     "evalue": "'Car' object has no attribute '__speed'",
     "output_type": "error",
     "traceback": [
      "\u001b[1;31m---------------------------------------------------------------------------\u001b[0m",
      "\u001b[1;31mAttributeError\u001b[0m                            Traceback (most recent call last)",
      "Cell \u001b[1;32mIn[25], line 12\u001b[0m\n\u001b[0;32m     10\u001b[0m pride\u001b[38;5;241m.\u001b[39mset_speed(\u001b[38;5;241m210\u001b[39m)\n\u001b[0;32m     11\u001b[0m pride\u001b[38;5;241m.\u001b[39mget_speed()\n\u001b[1;32m---> 12\u001b[0m \u001b[38;5;28mprint\u001b[39m(pride\u001b[38;5;241m.\u001b[39m__speed)\n",
      "\u001b[1;31mAttributeError\u001b[0m: 'Car' object has no attribute '__speed'"
     ]
    }
   ],
   "source": [
    "class Car():\n",
    "    def __init__(self):\n",
    "        self.__speed=200\n",
    "        self.color=\"red\"\n",
    "    def set_speed(self,new_speed):\n",
    "        self.__speed=new_speed\n",
    "    def get_speed(self):\n",
    "        return self.__speed   \n",
    "pride=Car()\n",
    "pride.set_speed(210)\n",
    "pride.get_speed()\n",
    "print(pride.__speed)\n"
   ]
  },
  {
   "cell_type": "code",
   "execution_count": 27,
   "id": "254d2631",
   "metadata": {},
   "outputs": [
    {
     "name": "stdout",
     "output_type": "stream",
     "text": [
      "9000\n"
     ]
    }
   ],
   "source": [
    "class Car():\n",
    "    def __init__(self):\n",
    "        self.__speed=200\n",
    "        self.color=\"red\"\n",
    "    def set_speed(self,new_speed):\n",
    "        self.__speed=new_speed\n",
    "    def get_speed(self):\n",
    "        return self.__speed   \n",
    "pride=Car()\n",
    "pride.set_speed(210)\n",
    "pride.get_speed()\n",
    "pride.__speed=9000\n",
    "print(pride.__speed)\n"
   ]
  },
  {
   "cell_type": "markdown",
   "id": "e0b3d0d3",
   "metadata": {},
   "source": [
    "In your code, pride.__speed = 9000 does not actually modify the \n",
    "private __speed attribute within the class. \n",
    "Instead, it creates a new instance attribute with the name __speed in the pride object, \n",
    "which is distinct from the class attribute. \n",
    "This is because name mangling makes it difficult to directly access or modify private attributes from outside the class."
   ]
  },
  {
   "cell_type": "markdown",
   "id": "e709e2fc",
   "metadata": {},
   "source": [
    "###Private Method"
   ]
  },
  {
   "cell_type": "code",
   "execution_count": 28,
   "id": "cfc576ce",
   "metadata": {},
   "outputs": [
    {
     "name": "stdout",
     "output_type": "stream",
     "text": [
      "it is public\n"
     ]
    }
   ],
   "source": [
    "class Testprivatemethod:\n",
    "    def public(self):\n",
    "        print(\"it is public\")\n",
    "test1=Testprivatemethod()\n",
    "test1.public()"
   ]
  },
  {
   "cell_type": "code",
   "execution_count": 30,
   "id": "76aa54a1",
   "metadata": {},
   "outputs": [
    {
     "ename": "AttributeError",
     "evalue": "'Testprivatemethod' object has no attribute 'private'",
     "output_type": "error",
     "traceback": [
      "\u001b[1;31m---------------------------------------------------------------------------\u001b[0m",
      "\u001b[1;31mAttributeError\u001b[0m                            Traceback (most recent call last)",
      "Cell \u001b[1;32mIn[30], line 7\u001b[0m\n\u001b[0;32m      5\u001b[0m         \u001b[38;5;28mprint\u001b[39m(\u001b[38;5;124m\"\u001b[39m\u001b[38;5;124mit is private\u001b[39m\u001b[38;5;124m\"\u001b[39m)\n\u001b[0;32m      6\u001b[0m test1\u001b[38;5;241m=\u001b[39mTestprivatemethod()\n\u001b[1;32m----> 7\u001b[0m test1\u001b[38;5;241m.\u001b[39mprivate()\n",
      "\u001b[1;31mAttributeError\u001b[0m: 'Testprivatemethod' object has no attribute 'private'"
     ]
    }
   ],
   "source": [
    "class Testprivatemethod:\n",
    "    def public(self):\n",
    "        print(\"it is public\")\n",
    "    def __private(self):\n",
    "        print(\"it is private\")\n",
    "test1=Testprivatemethod()\n",
    "test1.private()"
   ]
  },
  {
   "cell_type": "code",
   "execution_count": 31,
   "id": "dafc6da3",
   "metadata": {},
   "outputs": [
    {
     "name": "stdout",
     "output_type": "stream",
     "text": [
      "it is public\n",
      "it is private\n"
     ]
    }
   ],
   "source": [
    "class Testprivatemethod:\n",
    "    def public(self):\n",
    "        print(\"it is public\")\n",
    "        self.__private()\n",
    "    def __private(self):\n",
    "        print(\"it is private\")\n",
    "test1=Testprivatemethod()\n",
    "test1.public()"
   ]
  },
  {
   "cell_type": "code",
   "execution_count": null,
   "id": "b40c2f49",
   "metadata": {},
   "outputs": [],
   "source": [
    "#Decorators\n",
    "https://www.freecodecamp.org/news/python-decorators-explained-with-examples/\n",
    "https://www.sitepoint.com/understanding-python-decorators/\n",
    "https://python-course.eu/advanced-python/decorators-decoration.php  "
   ]
  },
  {
   "cell_type": "code",
   "execution_count": 33,
   "id": "74368d42",
   "metadata": {},
   "outputs": [
    {
     "name": "stdout",
     "output_type": "stream",
     "text": [
      "you delete message\n"
     ]
    }
   ],
   "source": [
    "def delete_message():\n",
    "    print(\"you delete message\")\n",
    "delete_message()"
   ]
  },
  {
   "cell_type": "code",
   "execution_count": 34,
   "id": "a30a79ba",
   "metadata": {},
   "outputs": [
    {
     "name": "stdout",
     "output_type": "stream",
     "text": [
      "check:can you delete a message?\n",
      "you delete message\n",
      "create a delete log after you delete message\n"
     ]
    }
   ],
   "source": [
    "def decorator(func):\n",
    "    print(\"check:can you delete a message?\")\n",
    "    func()\n",
    "    print(\"create a delete log after you delete message\")\n",
    "def delete_message():\n",
    "    print(\"you delete message\")\n",
    "decorator(delete_message)\n"
   ]
  },
  {
   "cell_type": "code",
   "execution_count": 39,
   "id": "3adfa474",
   "metadata": {},
   "outputs": [
    {
     "name": "stdout",
     "output_type": "stream",
     "text": [
      "check:can you delete a message?\n",
      "you delete message\n",
      "create a delete log after you delete message\n"
     ]
    }
   ],
   "source": [
    "def decorator(func):\n",
    "    def wrapper():\n",
    "        print(\"check:can you delete a message?\")\n",
    "        func()\n",
    "        print(\"create a delete log after you delete message\")\n",
    "    return wrapper\n",
    "\n",
    "@decorator\n",
    "def delete_message():\n",
    "  print(\"you delete message\")\n",
    "\n",
    "\n",
    "delete_message()\n"
   ]
  },
  {
   "cell_type": "markdown",
   "id": "dfe68328",
   "metadata": {},
   "source": [
    "#static and class method\n",
    "https://codefather.tech/blog/static-method-class-method-python/\n",
    "https://www.digitalocean.com/community/tutorials/python-static-method\n",
    "https://realpython.com/instance-class-and-static-methods-demystified/\n",
    "https://linuxhint.com/class-method-vs-static-method-python/\n",
    "https://www.studytonight.com/python-howtos/python-static-methods-vs-class-method   "
   ]
  },
  {
   "cell_type": "code",
   "execution_count": 45,
   "id": "d985fb2b",
   "metadata": {},
   "outputs": [
    {
     "name": "stdout",
     "output_type": "stream",
     "text": [
      "behnam amiri\n"
     ]
    }
   ],
   "source": [
    "class Employee:\n",
    "    salary=3000\n",
    "    total_emp=0\n",
    "    def __init__(self,first_name,last_name):\n",
    "        self.first_name=first_name\n",
    "        self.last_name=last_name\n",
    "        Employee.total_emp+=1\n",
    "    def full_name(self):\n",
    "        return '{} {}'.format(self.first_name,self.last_name)\n",
    "\n",
    "emp1=Employee(\"behnam\",\"amiri\")\n",
    "print(emp1.full_name())"
   ]
  },
  {
   "cell_type": "code",
   "execution_count": 50,
   "id": "6f0bd844",
   "metadata": {},
   "outputs": [
    {
     "name": "stdout",
     "output_type": "stream",
     "text": [
      "before\n",
      "behnam amiri 3000\n",
      "melika abedi 3000\n",
      "after\n",
      "behnam amiri 6000\n",
      "melika abedi 6000\n"
     ]
    }
   ],
   "source": [
    "class Employee:\n",
    "    salary=3000\n",
    "    total_emp=0\n",
    "    def __init__(self,first_name,last_name):\n",
    "        self.first_name=first_name\n",
    "        self.last_name=last_name\n",
    "        Employee.total_emp+=1\n",
    "    def full_name(self):\n",
    "        return '{} {}'.format(self.first_name,self.last_name)\n",
    "    @classmethod\n",
    "    def raise_salary(cls,new_salary):\n",
    "        if type(new_salary)==int:\n",
    "            cls.salary=new_salary\n",
    "        else:\n",
    "            raise ValueError\n",
    "            \n",
    "\n",
    "emp1=Employee(\"behnam\",\"amiri\")\n",
    "emp2=Employee(\"melika\",\"abedi\")\n",
    "print(\"before\")\n",
    "print(emp1.full_name(),emp1.salary)\n",
    "print(emp2.full_name(),emp2.salary)\n",
    "Employee.raise_salary(6000)\n",
    "print(\"after\")\n",
    "print(emp1.full_name(),emp1.salary)\n",
    "print(emp2.full_name(),emp2.salary)"
   ]
  },
  {
   "cell_type": "code",
   "execution_count": 51,
   "id": "2ae1aa92",
   "metadata": {},
   "outputs": [
    {
     "name": "stdout",
     "output_type": "stream",
     "text": [
      "ghazal rezai 3000\n"
     ]
    }
   ],
   "source": [
    "class Employee:\n",
    "    salary=3000\n",
    "    total_emp=0\n",
    "    def __init__(self,first_name,last_name):\n",
    "        self.first_name=first_name\n",
    "        self.last_name=last_name\n",
    "        Employee.total_emp+=1\n",
    "    def full_name(self):\n",
    "        return '{} {}'.format(self.first_name,self.last_name)\n",
    "    @classmethod\n",
    "    def create_from_string(cls,string):\n",
    "        first_name,last_name=string.split(\"-\")\n",
    "        return cls(first_name,last_name)\n",
    "\n",
    "            \n",
    "\n",
    "emp3=Employee.create_from_string(\"ghazal-rezai\")\n",
    "print(emp3.full_name(),emp3.salary)\n",
    "\n"
   ]
  },
  {
   "cell_type": "code",
   "execution_count": 55,
   "id": "2f849629",
   "metadata": {},
   "outputs": [
    {
     "name": "stdout",
     "output_type": "stream",
     "text": [
      "Product: 125\n"
     ]
    }
   ],
   "source": [
    "class Calculator:\n",
    "\n",
    "    # create addNumbers static method\n",
    "    @staticmethod\n",
    "    def addNumbers(x, y):\n",
    "        return x + y\n",
    "\n",
    "print('Product:', Calculator.addNumbers(15, 110))"
   ]
  },
  {
   "cell_type": "markdown",
   "id": "6f5a9a08",
   "metadata": {},
   "source": [
    "Static methods have a very clear use-case. When we need some functionality not w.r.t an Object but w.r.t the complete class, we make a method static. This is pretty much advantageous when we need to create Utility methods as they aren’t tied to an object lifecycle usually. Finally, note that in a static method, we don’t need the self to be passed as the first argument"
   ]
  },
  {
   "cell_type": "markdown",
   "id": "08d0be47",
   "metadata": {},
   "source": [
    "###\n",
    "Class methods are commonly employed when the functionality requires interaction with class variables, initialization, or instantiation procedures. Examples include factory methods, alternative constructors, and modifying class-level attributes. Alternatively, static methods suit scenarios where functionality needs to be encapsulated within the class but does not rely on any class-level data.\n",
    "###\n"
   ]
  },
  {
   "cell_type": "code",
   "execution_count": null,
   "id": "e22eed03",
   "metadata": {},
   "outputs": [],
   "source": [
    "#Property\n",
    "https://www.geeksforgeeks.org/python-property-function/\n",
    "https://www.tutorialsteacher.com/python/property-function\n",
    "https://www.freecodecamp.org/news/python-property-decorator/\n",
    "https://www.scaler.com/topics/python/python-property/"
   ]
  },
  {
   "cell_type": "code",
   "execution_count": 59,
   "id": "a86ce138",
   "metadata": {},
   "outputs": [
    {
     "name": "stdout",
     "output_type": "stream",
     "text": [
      "behnam amiri\n"
     ]
    }
   ],
   "source": [
    "class Employee:\n",
    "    salary=3000\n",
    "    total_emp=0\n",
    "    def __init__(self,first_name,last_name):\n",
    "        self.first_name=first_name\n",
    "        self.last_name=last_name\n",
    "        Employee.total_emp+=1\n",
    "    def full_name(self):\n",
    "        return '{} {}'.format(self.first_name,self.last_name)\n",
    "\n",
    "emp1=Employee(\"behnam\",\"amiri\")\n",
    "print(emp1.full_name())"
   ]
  },
  {
   "cell_type": "code",
   "execution_count": 60,
   "id": "4d71412c",
   "metadata": {},
   "outputs": [
    {
     "name": "stdout",
     "output_type": "stream",
     "text": [
      "behnam amiri\n"
     ]
    }
   ],
   "source": [
    "class Employee:\n",
    "    salary=3000\n",
    "    total_emp=0\n",
    "    def __init__(self,first_name,last_name):\n",
    "        self.first_name=first_name\n",
    "        self.last_name=last_name\n",
    "        Employee.total_emp+=1\n",
    "        self.full_name='{} {}'.format(self.first_name,self.last_name)\n",
    "\n",
    "emp1=Employee(\"behnam\",\"amiri\")\n",
    "print(emp1.full_name)"
   ]
  },
  {
   "cell_type": "code",
   "execution_count": 61,
   "id": "5e6d6332",
   "metadata": {},
   "outputs": [
    {
     "name": "stdout",
     "output_type": "stream",
     "text": [
      "behnam amiri\n"
     ]
    }
   ],
   "source": [
    "class Employee:\n",
    "    salary=3000\n",
    "    total_emp=0\n",
    "    def __init__(self,first_name,last_name):\n",
    "        self.first_name=first_name\n",
    "        self.last_name=last_name\n",
    "        Employee.total_emp+=1\n",
    "    @property\n",
    "    def full_name(self):\n",
    "        return '{} {}'.format(self.first_name,self.last_name)\n",
    "\n",
    "emp1=Employee(\"behnam\",\"amiri\")\n",
    "print(emp1.full_name)"
   ]
  },
  {
   "cell_type": "code",
   "execution_count": 62,
   "id": "e5bed065",
   "metadata": {},
   "outputs": [
    {
     "ename": "AttributeError",
     "evalue": "property 'full_name' of 'Employee' object has no setter",
     "output_type": "error",
     "traceback": [
      "\u001b[1;31m---------------------------------------------------------------------------\u001b[0m",
      "\u001b[1;31mAttributeError\u001b[0m                            Traceback (most recent call last)",
      "Cell \u001b[1;32mIn[62], line 13\u001b[0m\n\u001b[0;32m     10\u001b[0m         \u001b[38;5;28;01mreturn\u001b[39;00m \u001b[38;5;124m'\u001b[39m\u001b[38;5;132;01m{}\u001b[39;00m\u001b[38;5;124m \u001b[39m\u001b[38;5;132;01m{}\u001b[39;00m\u001b[38;5;124m'\u001b[39m\u001b[38;5;241m.\u001b[39mformat(\u001b[38;5;28mself\u001b[39m\u001b[38;5;241m.\u001b[39mfirst_name,\u001b[38;5;28mself\u001b[39m\u001b[38;5;241m.\u001b[39mlast_name)\n\u001b[0;32m     12\u001b[0m emp1\u001b[38;5;241m=\u001b[39mEmployee(\u001b[38;5;124m\"\u001b[39m\u001b[38;5;124mbehnam\u001b[39m\u001b[38;5;124m\"\u001b[39m,\u001b[38;5;124m\"\u001b[39m\u001b[38;5;124mamiri\u001b[39m\u001b[38;5;124m\"\u001b[39m)\n\u001b[1;32m---> 13\u001b[0m emp1\u001b[38;5;241m.\u001b[39mfull_name\u001b[38;5;241m=\u001b[39m\u001b[38;5;124m\"\u001b[39m\u001b[38;5;124mmaryam maleki\u001b[39m\u001b[38;5;124m\"\u001b[39m\n\u001b[0;32m     14\u001b[0m \u001b[38;5;28mprint\u001b[39m(emp1\u001b[38;5;241m.\u001b[39mfull_name)\n",
      "\u001b[1;31mAttributeError\u001b[0m: property 'full_name' of 'Employee' object has no setter"
     ]
    }
   ],
   "source": [
    "class Employee:\n",
    "    salary=3000\n",
    "    total_emp=0\n",
    "    def __init__(self,first_name,last_name):\n",
    "        self.first_name=first_name\n",
    "        self.last_name=last_name\n",
    "        Employee.total_emp+=1\n",
    "    @property\n",
    "    def full_name(self):\n",
    "        return '{} {}'.format(self.first_name,self.last_name)\n",
    "\n",
    "emp1=Employee(\"behnam\",\"amiri\")\n",
    "emp1.full_name=\"maryam maleki\"\n",
    "print(emp1.full_name)"
   ]
  },
  {
   "cell_type": "code",
   "execution_count": 67,
   "id": "87d00412",
   "metadata": {},
   "outputs": [
    {
     "name": "stdout",
     "output_type": "stream",
     "text": [
      "behnam amiri\n",
      "maryam maleki\n"
     ]
    }
   ],
   "source": [
    "class Employee:\n",
    "    salary=3000\n",
    "    total_emp=0\n",
    "    def __init__(self,first_name,last_name):\n",
    "        self.first_name=first_name\n",
    "        self.last_name=last_name\n",
    "        Employee.total_emp+=1\n",
    "    @property\n",
    "    def full_name(self):\n",
    "        return '{} {}'.format(self.first_name,self.last_name)\n",
    "    @full_name.setter\n",
    "    def full_name(self,name):\n",
    "        self.first_name,self.last_name=name.split(\" \")\n",
    "\n",
    "emp1=Employee(\"behnam\",\"amiri\")\n",
    "print(emp1.full_name)\n",
    "emp1.full_name=\"maryam maleki\"\n",
    "print(emp1.full_name)\n"
   ]
  },
  {
   "cell_type": "code",
   "execution_count": 68,
   "id": "5583e9dc",
   "metadata": {},
   "outputs": [
    {
     "name": "stdout",
     "output_type": "stream",
     "text": [
      "Getting value\n",
      "Peter\n",
      "Setting value to Diesel\n",
      "Deleting value\n"
     ]
    }
   ],
   "source": [
    "# Python program to explain property()\n",
    "# function using decorator\n",
    " \n",
    "class Alphabet:\n",
    "    def __init__(self, value):\n",
    "        self._value = value\n",
    " \n",
    "    # getting the values\n",
    "    @property\n",
    "    def value(self):\n",
    "        print('Getting value')\n",
    "        return self._value\n",
    " \n",
    "    # setting the values\n",
    "    @value.setter\n",
    "    def value(self, value):\n",
    "        print('Setting value to ' + value)\n",
    "        self._value = value\n",
    " \n",
    "    # deleting the values\n",
    "    @value.deleter\n",
    "    def value(self):\n",
    "        print('Deleting value')\n",
    "        del self._value\n",
    " \n",
    " \n",
    "# passing the value\n",
    "x = Alphabet('Peter')\n",
    "print(x.value)\n",
    " \n",
    "x.value = 'Diesel'\n",
    " \n",
    "del x.value"
   ]
  },
  {
   "cell_type": "markdown",
   "id": "523e41bb",
   "metadata": {},
   "source": [
    "#Abstraction \n",
    "https://www.askpython.com/python/oops/abstraction-in-python\n",
    "https://www.javatpoint.com/abstraction-in-python\n",
    "https://www.scaler.com/topics/python/data-abstraction-in-python/\n",
    "https://www.educba.com/abstraction-in-python/"
   ]
  },
  {
   "cell_type": "code",
   "execution_count": 74,
   "id": "45d2cd91",
   "metadata": {},
   "outputs": [
    {
     "name": "stdout",
     "output_type": "stream",
     "text": [
      "melika abedi\n"
     ]
    }
   ],
   "source": [
    "from abc import ABC,abstractmethod\n",
    "class Person(ABC):\n",
    "    def __init__(self,first_name,last_name):\n",
    "        self.first_name=first_name\n",
    "        self.last_name=last_name\n",
    "    @abstractmethod\n",
    "    def full_name(self):\n",
    "        pass\n",
    "\n",
    "class Employee(Person):\n",
    "    salary=3000\n",
    "    def full_name(self):\n",
    "        return '{} {}'.format(self.first_name,self.last_name)\n",
    "    \n",
    "emp1=Employee(\"melika\",\"abedi\")\n",
    "print(emp1.full_name())"
   ]
  },
  {
   "cell_type": "code",
   "execution_count": null,
   "id": "0a4f9270",
   "metadata": {},
   "outputs": [],
   "source": []
  },
  {
   "cell_type": "code",
   "execution_count": 75,
   "id": "c9c56996",
   "metadata": {},
   "outputs": [
    {
     "ename": "TypeError",
     "evalue": "Can't instantiate abstract class Employee with abstract method full_name",
     "output_type": "error",
     "traceback": [
      "\u001b[1;31m---------------------------------------------------------------------------\u001b[0m",
      "\u001b[1;31mTypeError\u001b[0m                                 Traceback (most recent call last)",
      "Cell \u001b[1;32mIn[75], line 15\u001b[0m\n\u001b[0;32m     12\u001b[0m     \u001b[38;5;28;01mdef\u001b[39;00m \u001b[38;5;21mfullname\u001b[39m(\u001b[38;5;28mself\u001b[39m):\n\u001b[0;32m     13\u001b[0m         \u001b[38;5;28;01mreturn\u001b[39;00m \u001b[38;5;124m'\u001b[39m\u001b[38;5;132;01m{}\u001b[39;00m\u001b[38;5;124m \u001b[39m\u001b[38;5;132;01m{}\u001b[39;00m\u001b[38;5;124m'\u001b[39m\u001b[38;5;241m.\u001b[39mformat(\u001b[38;5;28mself\u001b[39m\u001b[38;5;241m.\u001b[39mfirst_name,\u001b[38;5;28mself\u001b[39m\u001b[38;5;241m.\u001b[39mlast_name)\n\u001b[1;32m---> 15\u001b[0m emp1\u001b[38;5;241m=\u001b[39mEmployee(\u001b[38;5;124m\"\u001b[39m\u001b[38;5;124mmelika\u001b[39m\u001b[38;5;124m\"\u001b[39m,\u001b[38;5;124m\"\u001b[39m\u001b[38;5;124mabedi\u001b[39m\u001b[38;5;124m\"\u001b[39m)\n\u001b[0;32m     16\u001b[0m \u001b[38;5;28mprint\u001b[39m(emp1\u001b[38;5;241m.\u001b[39mfullname())\n",
      "\u001b[1;31mTypeError\u001b[0m: Can't instantiate abstract class Employee with abstract method full_name"
     ]
    }
   ],
   "source": [
    "from abc import ABC,abstractmethod\n",
    "class Person(ABC):\n",
    "    def __init__(self,first_name,last_name):\n",
    "        self.first_name=first_name\n",
    "        self.last_name=last_name\n",
    "    @abstractmethod\n",
    "    def full_name(self):\n",
    "        pass\n",
    "\n",
    "class Employee(Person):\n",
    "    salary=3000\n",
    "    def fullname(self):\n",
    "        return '{} {}'.format(self.first_name,self.last_name)\n",
    "    \n",
    "emp1=Employee(\"melika\",\"abedi\")\n",
    "print(emp1.fullname())"
   ]
  },
  {
   "cell_type": "markdown",
   "id": "3a6d7b8c",
   "metadata": {},
   "source": [
    "we should have this method"
   ]
  },
  {
   "cell_type": "markdown",
   "id": "f5fe4965",
   "metadata": {},
   "source": [
    "#Polymorphism\n",
    "https://www.geeksforgeeks.org/polymorphism-in-python/\n",
    "https://www.edureka.co/blog/polymorphism-in-python/\n",
    "https://www.javatpoint.com/polymorphism-in-python\n",
    "https://pynative.com/python-polymorphism/\n"
   ]
  },
  {
   "cell_type": "code",
   "execution_count": 2,
   "id": "b9b1d5cf",
   "metadata": {},
   "outputs": [
    {
     "name": "stdout",
     "output_type": "stream",
     "text": [
      "salam\n",
      "hi\n"
     ]
    }
   ],
   "source": [
    "from abc import ABC,abstractmethod\n",
    "class Language(ABC):\n",
    "    @abstractmethod\n",
    "    def say_hello(self):\n",
    "        pass\n",
    "class Persian(Language):\n",
    "    def say_hello(self):\n",
    "        return \"salam\"\n",
    "class English(Language):\n",
    "    def say_hello(self):\n",
    "        return \"hi\"\n",
    "ali=Persian()\n",
    "john=English()\n",
    "\n",
    "def execute_hello(obj):\n",
    "    print(obj.say_hello())\n",
    "\n",
    "execute_hello(ali)\n",
    "execute_hello(john)"
   ]
  },
  {
   "cell_type": "code",
   "execution_count": null,
   "id": "e3d493b0",
   "metadata": {},
   "outputs": [],
   "source": [
    "sdg"
   ]
  }
 ],
 "metadata": {
  "kernelspec": {
   "display_name": "Python 3 (ipykernel)",
   "language": "python",
   "name": "python3"
  },
  "language_info": {
   "codemirror_mode": {
    "name": "ipython",
    "version": 3
   },
   "file_extension": ".py",
   "mimetype": "text/x-python",
   "name": "python",
   "nbconvert_exporter": "python",
   "pygments_lexer": "ipython3",
   "version": "3.11.4"
  }
 },
 "nbformat": 4,
 "nbformat_minor": 5
}
