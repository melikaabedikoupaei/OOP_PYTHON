{
 "cells": [
  {
   "cell_type": "markdown",
   "id": "7d065a7e",
   "metadata": {},
   "source": [
    "class occupy memory\n",
    "and you should start the name of class with capital letters"
   ]
  },
  {
   "cell_type": "code",
   "execution_count": 1,
   "id": "f40fb280",
   "metadata": {},
   "outputs": [
    {
     "name": "stdout",
     "output_type": "stream",
     "text": [
      "<class '__main__.Employee'>\n"
     ]
    }
   ],
   "source": [
    "class Employee:\n",
    "    pass\n",
    "print(Employee)"
   ]
  },
  {
   "cell_type": "markdown",
   "id": "f6351919",
   "metadata": {},
   "source": [
    "two object with two different address"
   ]
  },
  {
   "cell_type": "code",
   "execution_count": 3,
   "id": "c769065b",
   "metadata": {},
   "outputs": [
    {
     "name": "stdout",
     "output_type": "stream",
     "text": [
      "<__main__.Employee object at 0x00000179F05696D0>\n",
      "<__main__.Employee object at 0x00000179F05C0990>\n"
     ]
    }
   ],
   "source": [
    "class Employee:\n",
    "    pass\n",
    "print(Employee())\n",
    "print(Employee())"
   ]
  },
  {
   "cell_type": "markdown",
   "id": "7fe6e570",
   "metadata": {},
   "source": [
    "same address"
   ]
  },
  {
   "cell_type": "code",
   "execution_count": 6,
   "id": "d9e135c3",
   "metadata": {},
   "outputs": [
    {
     "name": "stdout",
     "output_type": "stream",
     "text": [
      "<__main__.Employee object at 0x00000179F0552B10>\n",
      "<__main__.Employee object at 0x00000179F0552B10>\n"
     ]
    }
   ],
   "source": [
    "class Employee:\n",
    "    pass\n",
    "a=Employee()\n",
    "print(a)\n",
    "print(a)"
   ]
  },
  {
   "cell_type": "markdown",
   "id": "da36881f",
   "metadata": {},
   "source": [
    "name is for class but age is for object"
   ]
  },
  {
   "cell_type": "code",
   "execution_count": 9,
   "id": "5299ca82",
   "metadata": {},
   "outputs": [
    {
     "name": "stdout",
     "output_type": "stream",
     "text": [
      "ali\n"
     ]
    }
   ],
   "source": [
    "class Employee:\n",
    "    name='ali'\n",
    "    def __init__(self):\n",
    "        self.age=29\n",
    "    \n",
    "print(Employee.name)"
   ]
  },
  {
   "cell_type": "code",
   "execution_count": 10,
   "id": "9a40d9ff",
   "metadata": {},
   "outputs": [
    {
     "ename": "AttributeError",
     "evalue": "type object 'Employee' has no attribute 'age'",
     "output_type": "error",
     "traceback": [
      "\u001b[1;31m---------------------------------------------------------------------------\u001b[0m",
      "\u001b[1;31mAttributeError\u001b[0m                            Traceback (most recent call last)",
      "Cell \u001b[1;32mIn[10], line 6\u001b[0m\n\u001b[0;32m      4\u001b[0m         \u001b[38;5;28mself\u001b[39m\u001b[38;5;241m.\u001b[39mage\u001b[38;5;241m=\u001b[39m\u001b[38;5;241m29\u001b[39m\n\u001b[0;32m      5\u001b[0m     \u001b[38;5;28;01mpass\u001b[39;00m\n\u001b[1;32m----> 6\u001b[0m \u001b[38;5;28mprint\u001b[39m(Employee\u001b[38;5;241m.\u001b[39mage)\n",
      "\u001b[1;31mAttributeError\u001b[0m: type object 'Employee' has no attribute 'age'"
     ]
    }
   ],
   "source": [
    "class Employee:\n",
    "    name='ali'\n",
    "    def __init__(self):\n",
    "        self.age=29\n",
    "    \n",
    "print(Employee.age)"
   ]
  },
  {
   "cell_type": "code",
   "execution_count": 11,
   "id": "dbc302c8",
   "metadata": {},
   "outputs": [
    {
     "name": "stdout",
     "output_type": "stream",
     "text": [
      "29\n"
     ]
    }
   ],
   "source": [
    "class Employee:\n",
    "    name='ali'\n",
    "    def __init__(self):\n",
    "        self.age=29\n",
    "a=Employee()  \n",
    "print(a.age)"
   ]
  },
  {
   "cell_type": "code",
   "execution_count": 14,
   "id": "e23c377b",
   "metadata": {},
   "outputs": [
    {
     "name": "stdout",
     "output_type": "stream",
     "text": [
      "ali 29\n"
     ]
    }
   ],
   "source": [
    "class Employee:\n",
    "    name='ali'\n",
    "    def __init__(self,age):\n",
    "        self.age=age\n",
    "a=Employee(29)  \n",
    "print(a.name,a.age)"
   ]
  },
  {
   "cell_type": "code",
   "execution_count": 17,
   "id": "65ab9752",
   "metadata": {},
   "outputs": [
    {
     "name": "stdout",
     "output_type": "stream",
     "text": [
      "hasan 29\n"
     ]
    }
   ],
   "source": [
    "class Employee:\n",
    "    name='ali'\n",
    "    def __init__(self,age,name):\n",
    "        self.age=age\n",
    "        self.name=name\n",
    "a=Employee(29,\"hasan\")  \n",
    "print(a.name,a.age)"
   ]
  },
  {
   "cell_type": "code",
   "execution_count": 18,
   "id": "a3e7eb60",
   "metadata": {},
   "outputs": [
    {
     "ename": "TypeError",
     "evalue": "Employee.__init__() missing 1 required positional argument: 'name'",
     "output_type": "error",
     "traceback": [
      "\u001b[1;31m---------------------------------------------------------------------------\u001b[0m",
      "\u001b[1;31mTypeError\u001b[0m                                 Traceback (most recent call last)",
      "Cell \u001b[1;32mIn[18], line 7\u001b[0m\n\u001b[0;32m      5\u001b[0m         \u001b[38;5;28mself\u001b[39m\u001b[38;5;241m.\u001b[39mname\u001b[38;5;241m=\u001b[39mname\n\u001b[0;32m      6\u001b[0m a\u001b[38;5;241m=\u001b[39mEmployee(\u001b[38;5;241m29\u001b[39m,\u001b[38;5;124m\"\u001b[39m\u001b[38;5;124mhasan\u001b[39m\u001b[38;5;124m\"\u001b[39m)  \n\u001b[1;32m----> 7\u001b[0m b\u001b[38;5;241m=\u001b[39mEmployee(\u001b[38;5;241m31\u001b[39m)\n\u001b[0;32m      8\u001b[0m \u001b[38;5;28mprint\u001b[39m(a\u001b[38;5;241m.\u001b[39mname,a\u001b[38;5;241m.\u001b[39mage)\n\u001b[0;32m      9\u001b[0m \u001b[38;5;28mprint\u001b[39m(b\u001b[38;5;241m.\u001b[39mname,b\u001b[38;5;241m.\u001b[39mage)\n",
      "\u001b[1;31mTypeError\u001b[0m: Employee.__init__() missing 1 required positional argument: 'name'"
     ]
    }
   ],
   "source": [
    "class Employee:\n",
    "    name='ali'\n",
    "    def __init__(self,age,name):\n",
    "        self.age=age\n",
    "        self.name=name\n",
    "a=Employee(29,\"hasan\")  \n",
    "b=Employee(31)\n",
    "print(a.name,a.age)\n",
    "print(b.name,b.age)"
   ]
  },
  {
   "cell_type": "code",
   "execution_count": 21,
   "id": "5e8ceee7",
   "metadata": {},
   "outputs": [
    {
     "name": "stdout",
     "output_type": "stream",
     "text": [
      "hasan 3000\n",
      "ali 3000\n",
      "hasan 5100.0\n",
      "ali 5100.0\n"
     ]
    }
   ],
   "source": [
    "class Employee:\n",
    "    salary=3000\n",
    "    def __init__(self,age,name):\n",
    "        self.age=age\n",
    "        self.name=name\n",
    "\n",
    "a=Employee(29,\"hasan\")  \n",
    "b=Employee(31,\"ali\")\n",
    "print(a.name,a.salary)\n",
    "print(b.name,b.salary)\n",
    "Employee.salary=Employee.salary*1.7\n",
    "print(a.name,a.salary)\n",
    "print(b.name,b.salary)"
   ]
  },
  {
   "cell_type": "code",
   "execution_count": 22,
   "id": "e148c02c",
   "metadata": {},
   "outputs": [
    {
     "name": "stdout",
     "output_type": "stream",
     "text": [
      "hasan 3000\n",
      "ali 3000\n",
      "hasan 5100.0\n",
      "ali 3000\n"
     ]
    }
   ],
   "source": [
    "class Employee:\n",
    "    salary=3000\n",
    "    def __init__(self,age,name):\n",
    "        self.age=age\n",
    "        self.name=name\n",
    "\n",
    "a=Employee(29,\"hasan\")  \n",
    "b=Employee(31,\"ali\")\n",
    "print(a.name,a.salary)\n",
    "print(b.name,b.salary)\n",
    "a.salary=a.salary*1.7\n",
    "print(a.name,a.salary)\n",
    "print(b.name,b.salary)"
   ]
  },
  {
   "cell_type": "markdown",
   "id": "10c1d56e",
   "metadata": {},
   "source": [
    "when we write metod without self then we can use it with class"
   ]
  },
  {
   "cell_type": "code",
   "execution_count": 24,
   "id": "b958e2a8",
   "metadata": {},
   "outputs": [
    {
     "name": "stdout",
     "output_type": "stream",
     "text": [
      "hello\n"
     ]
    }
   ],
   "source": [
    "class Employee:\n",
    "    salary=3000\n",
    "    def __init__(self,age,name):\n",
    "        self.age=age\n",
    "        self.name=name\n",
    "    def hello():\n",
    "        return \"hello\"\n",
    "print(Employee.hello())"
   ]
  },
  {
   "cell_type": "markdown",
   "id": "0c2b5f39",
   "metadata": {},
   "source": [
    "we can same method in class our outside the class"
   ]
  },
  {
   "cell_type": "code",
   "execution_count": 25,
   "id": "39ca13b2",
   "metadata": {},
   "outputs": [
    {
     "name": "stdout",
     "output_type": "stream",
     "text": [
      "hello hi\n"
     ]
    }
   ],
   "source": [
    "class Employee:\n",
    "    salary=3000\n",
    "    def __init__(self,age,name):\n",
    "        self.age=age\n",
    "        self.name=name\n",
    "    def hello():\n",
    "        return \"hello\"\n",
    "def hello():\n",
    "    return \"hi\"\n",
    "\n",
    "print(Employee.hello(),hello())"
   ]
  },
  {
   "cell_type": "code",
   "execution_count": 29,
   "id": "6f454575",
   "metadata": {},
   "outputs": [
    {
     "ename": "TypeError",
     "evalue": "Employee.hello() takes 0 positional arguments but 1 was given",
     "output_type": "error",
     "traceback": [
      "\u001b[1;31m---------------------------------------------------------------------------\u001b[0m",
      "\u001b[1;31mTypeError\u001b[0m                                 Traceback (most recent call last)",
      "Cell \u001b[1;32mIn[29], line 9\u001b[0m\n\u001b[0;32m      7\u001b[0m         \u001b[38;5;28;01mreturn\u001b[39;00m \u001b[38;5;124m\"\u001b[39m\u001b[38;5;124mhello\u001b[39m\u001b[38;5;124m\"\u001b[39m\n\u001b[0;32m      8\u001b[0m a\u001b[38;5;241m=\u001b[39mEmployee(\u001b[38;5;241m29\u001b[39m,\u001b[38;5;124m\"\u001b[39m\u001b[38;5;124mhasan\u001b[39m\u001b[38;5;124m\"\u001b[39m) \n\u001b[1;32m----> 9\u001b[0m \u001b[38;5;28mprint\u001b[39m(a\u001b[38;5;241m.\u001b[39mhello())\n",
      "\u001b[1;31mTypeError\u001b[0m: Employee.hello() takes 0 positional arguments but 1 was given"
     ]
    }
   ],
   "source": [
    "class Employee:\n",
    "    salary=3000\n",
    "    def __init__(self,age,name):\n",
    "        self.age=age\n",
    "        self.name=name\n",
    "    def hello():\n",
    "        return \"hello\"\n",
    "a=Employee(29,\"hasan\") \n",
    "print(a.hello())"
   ]
  },
  {
   "cell_type": "markdown",
   "id": "e441a34e",
   "metadata": {},
   "source": [
    "we should use self if we want to use it for object"
   ]
  },
  {
   "cell_type": "code",
   "execution_count": 28,
   "id": "295d1966",
   "metadata": {},
   "outputs": [
    {
     "name": "stdout",
     "output_type": "stream",
     "text": [
      "hello\n"
     ]
    }
   ],
   "source": [
    "class Employee:\n",
    "    salary=3000\n",
    "    def __init__(self,age,name):\n",
    "        self.age=age\n",
    "        self.name=name\n",
    "    def hello(self):\n",
    "        return \"hello\"\n",
    "a=Employee(29,\"hasan\") \n",
    "print(a.hello())"
   ]
  },
  {
   "cell_type": "code",
   "execution_count": 31,
   "id": "e783f52a",
   "metadata": {},
   "outputs": [
    {
     "name": "stdout",
     "output_type": "stream",
     "text": [
      "my name is hasan\n"
     ]
    }
   ],
   "source": [
    "class Employee:\n",
    "    salary=3000\n",
    "    def __init__(self,age,name):\n",
    "        self.age=age\n",
    "        self.name=name\n",
    "    def introduce(self):\n",
    "        return f\"my name is {self.name}\"\n",
    "a=Employee(29,\"hasan\") \n",
    "print(a.introduce())"
   ]
  },
  {
   "cell_type": "code",
   "execution_count": 32,
   "id": "0617a525",
   "metadata": {},
   "outputs": [
    {
     "name": "stdout",
     "output_type": "stream",
     "text": [
      " I LIKE  readig book\n"
     ]
    }
   ],
   "source": [
    "class Employee:\n",
    "    salary=3000\n",
    "    def __init__(self,age,name):\n",
    "        self.age=age\n",
    "        self.name=name\n",
    "    def introduce(self,hobby):\n",
    "        return f\" I LIKE  {hobby}\"\n",
    "a=Employee(29,\"hasan\") \n",
    "print(a.introduce(\"readig book\"))"
   ]
  },
  {
   "cell_type": "markdown",
   "id": "a39e4c6a",
   "metadata": {},
   "source": [
    "Magic methods in Python are the special methods that start and end with the double underscores. They are also called dunder methods. Magic methods are not meant to be invoked directly by you, but the invocation happens internally from the class on a certain action. For example, when you add two numbers using the + operator, internally, the __add__() method will be called.\n",
    "\n",
    "Built-in classes in Python define many magic methods. Use the dir() function to see the number of magic methods inherited by a class. For example, the following lists all the attributes and methods defined in the int class."
   ]
  },
  {
   "cell_type": "code",
   "execution_count": 1,
   "id": "1058a816",
   "metadata": {},
   "outputs": [
    {
     "name": "stdout",
     "output_type": "stream",
     "text": [
      "['__abs__', '__add__', '__and__', '__bool__', '__ceil__', '__class__', '__delattr__', '__dir__', '__divmod__', '__doc__', '__eq__', '__float__', '__floor__', '__floordiv__', '__format__', '__ge__', '__getattribute__', '__getnewargs__', '__getstate__', '__gt__', '__hash__', '__index__', '__init__', '__init_subclass__', '__int__', '__invert__', '__le__', '__lshift__', '__lt__', '__mod__', '__mul__', '__ne__', '__neg__', '__new__', '__or__', '__pos__', '__pow__', '__radd__', '__rand__', '__rdivmod__', '__reduce__', '__reduce_ex__', '__repr__', '__rfloordiv__', '__rlshift__', '__rmod__', '__rmul__', '__ror__', '__round__', '__rpow__', '__rrshift__', '__rshift__', '__rsub__', '__rtruediv__', '__rxor__', '__setattr__', '__sizeof__', '__str__', '__sub__', '__subclasshook__', '__truediv__', '__trunc__', '__xor__', 'as_integer_ratio', 'bit_count', 'bit_length', 'conjugate', 'denominator', 'from_bytes', 'imag', 'numerator', 'real', 'to_bytes']\n"
     ]
    }
   ],
   "source": [
    "print(dir(int))"
   ]
  },
  {
   "cell_type": "code",
   "execution_count": 2,
   "id": "57ce3b9b",
   "metadata": {},
   "outputs": [
    {
     "name": "stdout",
     "output_type": "stream",
     "text": [
      "['__class__', '__delattr__', '__dict__', '__dir__', '__doc__', '__eq__', '__format__', '__ge__', '__getattribute__', '__getstate__', '__gt__', '__hash__', '__init__', '__init_subclass__', '__le__', '__lt__', '__module__', '__ne__', '__new__', '__reduce__', '__reduce_ex__', '__repr__', '__setattr__', '__sizeof__', '__str__', '__subclasshook__', '__weakref__', 'salary']\n"
     ]
    }
   ],
   "source": [
    "class Employee:\n",
    "    salary=3000\n",
    "    def __init__(self,age,name):\n",
    "        self.age=age\n",
    "        self.name=name\n",
    "print(dir(Employee))"
   ]
  },
  {
   "cell_type": "code",
   "execution_count": 6,
   "id": "81074ae9",
   "metadata": {},
   "outputs": [
    {
     "name": "stdout",
     "output_type": "stream",
     "text": [
      "<slot wrapper '__str__' of 'object' objects>\n"
     ]
    }
   ],
   "source": [
    "class Employee:\n",
    "    salary=3000\n",
    "    def __init__(self,age,name):\n",
    "        self.age=age\n",
    "        self.name=name\n",
    "print(Employee.__str__)"
   ]
  },
  {
   "cell_type": "code",
   "execution_count": 7,
   "id": "69de3a55",
   "metadata": {},
   "outputs": [
    {
     "name": "stdout",
     "output_type": "stream",
     "text": [
      "<__main__.Employee object at 0x00000208127DBF10>\n"
     ]
    }
   ],
   "source": [
    "class Employee:\n",
    "    salary=3000\n",
    "    def __init__(self,age,name):\n",
    "        self.age=age\n",
    "        self.name=name\n",
    "a=Employee(23,\"hasan\")\n",
    "print(a.__str__())"
   ]
  },
  {
   "cell_type": "code",
   "execution_count": 9,
   "id": "0df7efb4",
   "metadata": {},
   "outputs": [
    {
     "name": "stdout",
     "output_type": "stream",
     "text": [
      "this is an object from employee class\n"
     ]
    }
   ],
   "source": [
    "class Employee:\n",
    "    salary=3000\n",
    "    def __init__(self,age,name):\n",
    "        self.age=age\n",
    "        self.name=name\n",
    "    def __str__(self):\n",
    "        return \"this is an object from employee class\"\n",
    "a=Employee(23,\"hasan\")\n",
    "print(a.__str__())"
   ]
  },
  {
   "cell_type": "code",
   "execution_count": 11,
   "id": "9be1aaa0",
   "metadata": {},
   "outputs": [
    {
     "ename": "TypeError",
     "evalue": "unsupported operand type(s) for +: 'Employee' and 'Employee'",
     "output_type": "error",
     "traceback": [
      "\u001b[1;31m---------------------------------------------------------------------------\u001b[0m",
      "\u001b[1;31mTypeError\u001b[0m                                 Traceback (most recent call last)",
      "Cell \u001b[1;32mIn[11], line 8\u001b[0m\n\u001b[0;32m      6\u001b[0m a\u001b[38;5;241m=\u001b[39mEmployee(\u001b[38;5;241m23\u001b[39m,\u001b[38;5;124m\"\u001b[39m\u001b[38;5;124mhasan\u001b[39m\u001b[38;5;124m\"\u001b[39m)\n\u001b[0;32m      7\u001b[0m b\u001b[38;5;241m=\u001b[39mEmployee(\u001b[38;5;241m40\u001b[39m,\u001b[38;5;124m\"\u001b[39m\u001b[38;5;124mhesam\u001b[39m\u001b[38;5;124m\"\u001b[39m)\n\u001b[1;32m----> 8\u001b[0m \u001b[38;5;28mprint\u001b[39m(a\u001b[38;5;241m+\u001b[39mb)\n",
      "\u001b[1;31mTypeError\u001b[0m: unsupported operand type(s) for +: 'Employee' and 'Employee'"
     ]
    }
   ],
   "source": [
    "class Employee:\n",
    "    salary=3000\n",
    "    def __init__(self,age,name):\n",
    "        self.age=age\n",
    "        self.name=name\n",
    "a=Employee(23,\"hasan\")\n",
    "b=Employee(40,\"hesam\")\n",
    "print(a+b)"
   ]
  },
  {
   "cell_type": "code",
   "execution_count": 12,
   "id": "5fac5794",
   "metadata": {},
   "outputs": [
    {
     "name": "stdout",
     "output_type": "stream",
     "text": [
      "63\n"
     ]
    }
   ],
   "source": [
    "class Employee:\n",
    "    salary=3000\n",
    "    def __init__(self,age,name):\n",
    "        self.age=age\n",
    "        self.name=name\n",
    "    def __add__(self,other):\n",
    "        return self.age+other.age\n",
    "a=Employee(23,\"hasan\")\n",
    "b=Employee(40,\"hesam\")\n",
    "print(a+b)"
   ]
  },
  {
   "cell_type": "markdown",
   "id": "b67954c8",
   "metadata": {},
   "source": [
    "https://www.javatpoint.com/python-magic-method\n",
    "https://www.tutorialsteacher.com/python/magic-methods-in-python#:~:text=Magic%20methods%20in%20Python%20are,class%20on%20a%20certain%20action.\n",
    "https://rszalski.github.io/magicmethods/"
   ]
  },
  {
   "cell_type": "markdown",
   "id": "0ba20272",
   "metadata": {},
   "source": [
    "کلاسی بنویسید\n",
    "\n",
    "با نام\n",
    "Dog \n",
    "که نام و سن را به عنوان ورودی دریافت کند.\n",
    "درون این کلاس یک\n",
    "class variable\n",
    "بسازید که با هر بار ساخته‌شدن یک \n",
    "instance\n",
    "یک واحد به آن اضافه شود و نام این متغیر را\n",
    "quantity \n",
    "بنامید.\n"
   ]
  },
  {
   "cell_type": "code",
   "execution_count": 18,
   "id": "0ecf9628",
   "metadata": {},
   "outputs": [
    {
     "name": "stdout",
     "output_type": "stream",
     "text": [
      "1\n",
      "2\n"
     ]
    }
   ],
   "source": [
    "class Dog:\n",
    "    quantity=0\n",
    "    def __init__(self,name,age):\n",
    "        self.age=age\n",
    "        self.name=name\n",
    "        Dog.quantity=Dog.quantity+1\n",
    "        \n",
    "        \n",
    "bulldog = Dog(\"Sammy\",3) \n",
    "print(Dog.quantity)\n",
    "hosky = Dog(\"Alex\",5)\n",
    "print(Dog.quantity)\n"
   ]
  },
  {
   "cell_type": "code",
   "execution_count": null,
   "id": "ddc81229",
   "metadata": {},
   "outputs": [],
   "source": [
    "#Inheritance"
   ]
  },
  {
   "cell_type": "code",
   "execution_count": 22,
   "id": "0626e78e",
   "metadata": {},
   "outputs": [
    {
     "name": "stdout",
     "output_type": "stream",
     "text": [
      "melika  abedi\n",
      " i am melika  abedi in cto posion  \n"
     ]
    }
   ],
   "source": [
    "class Person:\n",
    "    def __init__(self,first_name,last_name):\n",
    "        self.first_name=first_name\n",
    "        self.last_name=last_name\n",
    "    def fullname(self):\n",
    "        return f\"{self.first_name}  {self.last_name}\"\n",
    "person1=Person(\"melika\",\"abedi\")\n",
    "print(person1.fullname())\n",
    "class Employee:\n",
    "    def __init__(self,first_name,last_name,posion):\n",
    "        self.first_name=first_name\n",
    "        self.last_name=last_name\n",
    "        self.posion=posion\n",
    "    def job(self):\n",
    "        return f\" i am {self.first_name}  {self.last_name} in {self.posion} posion  \"\n",
    "employee1=Employee(\"melika\",\"abedi\",\"cto\")\n",
    "print(employee1.job())   "
   ]
  },
  {
   "cell_type": "code",
   "execution_count": 24,
   "id": "12471476",
   "metadata": {},
   "outputs": [
    {
     "name": "stdout",
     "output_type": "stream",
     "text": [
      "2000\n"
     ]
    }
   ],
   "source": [
    "class Person:\n",
    "    def __init__(self,first_name,last_name):\n",
    "        self.first_name=first_name\n",
    "        self.last_name=last_name\n",
    "    def fullname(self):\n",
    "        return f\"{self.first_name}  {self.last_name}\"\n",
    "class Salary:\n",
    "    salary=2000\n",
    "class Employee(Salary):\n",
    "    def __init__(self,first_name,last_name,posion):\n",
    "        self.first_name=first_name\n",
    "        self.last_name=last_name\n",
    "        self.posion=posion\n",
    "    def job(self):\n",
    "        return f\" i am {self.first_name}  {self.last_name} in {self.posion} posion  \"\n",
    "employee1=Employee(\"melika\",\"abedi\",\"cto\")\n",
    "print(employee1.salary)   "
   ]
  },
  {
   "cell_type": "code",
   "execution_count": 25,
   "id": "d60590e4",
   "metadata": {},
   "outputs": [
    {
     "name": "stdout",
     "output_type": "stream",
     "text": [
      " i am melika  abedi in cto posion  \n"
     ]
    }
   ],
   "source": [
    "class Person:\n",
    "    def __init__(self,first_name,last_name):\n",
    "        self.first_name=first_name\n",
    "        self.last_name=last_name\n",
    "    def fullname(self):\n",
    "        return f\"{self.first_name}  {self.last_name}\"\n",
    "\n",
    "class Employee(Person):\n",
    "    def __init__(self,first_name,last_name,posion):\n",
    "        self.first_name=first_name\n",
    "        self.last_name=last_name\n",
    "        self.posion=posion\n",
    "    def job(self):\n",
    "        return f\" i am {self.first_name}  {self.last_name} in {self.posion} posion  \"\n",
    "employee1=Employee(\"melika\",\"abedi\",\"cto\")\n",
    "print(employee1.job())   "
   ]
  },
  {
   "cell_type": "markdown",
   "id": "fbc4b799",
   "metadata": {},
   "source": [
    "can we delete firs name and last name in employee?"
   ]
  },
  {
   "cell_type": "code",
   "execution_count": 26,
   "id": "45c537f3",
   "metadata": {},
   "outputs": [
    {
     "ename": "TypeError",
     "evalue": "Employee.__init__() takes 2 positional arguments but 4 were given",
     "output_type": "error",
     "traceback": [
      "\u001b[1;31m---------------------------------------------------------------------------\u001b[0m",
      "\u001b[1;31mTypeError\u001b[0m                                 Traceback (most recent call last)",
      "Cell \u001b[1;32mIn[26], line 13\u001b[0m\n\u001b[0;32m     11\u001b[0m     \u001b[38;5;28;01mdef\u001b[39;00m \u001b[38;5;21mjob\u001b[39m(\u001b[38;5;28mself\u001b[39m):\n\u001b[0;32m     12\u001b[0m         \u001b[38;5;28;01mreturn\u001b[39;00m \u001b[38;5;124mf\u001b[39m\u001b[38;5;124m\"\u001b[39m\u001b[38;5;124m i am \u001b[39m\u001b[38;5;132;01m{\u001b[39;00m\u001b[38;5;28mself\u001b[39m\u001b[38;5;241m.\u001b[39mfirst_name\u001b[38;5;132;01m}\u001b[39;00m\u001b[38;5;124m  \u001b[39m\u001b[38;5;132;01m{\u001b[39;00m\u001b[38;5;28mself\u001b[39m\u001b[38;5;241m.\u001b[39mlast_name\u001b[38;5;132;01m}\u001b[39;00m\u001b[38;5;124m in \u001b[39m\u001b[38;5;132;01m{\u001b[39;00m\u001b[38;5;28mself\u001b[39m\u001b[38;5;241m.\u001b[39mposion\u001b[38;5;132;01m}\u001b[39;00m\u001b[38;5;124m posion  \u001b[39m\u001b[38;5;124m\"\u001b[39m\n\u001b[1;32m---> 13\u001b[0m employee1\u001b[38;5;241m=\u001b[39mEmployee(\u001b[38;5;124m\"\u001b[39m\u001b[38;5;124mmelika\u001b[39m\u001b[38;5;124m\"\u001b[39m,\u001b[38;5;124m\"\u001b[39m\u001b[38;5;124mabedi\u001b[39m\u001b[38;5;124m\"\u001b[39m,\u001b[38;5;124m\"\u001b[39m\u001b[38;5;124mcto\u001b[39m\u001b[38;5;124m\"\u001b[39m)\n\u001b[0;32m     14\u001b[0m \u001b[38;5;28mprint\u001b[39m(employee1\u001b[38;5;241m.\u001b[39mjob())\n",
      "\u001b[1;31mTypeError\u001b[0m: Employee.__init__() takes 2 positional arguments but 4 were given"
     ]
    }
   ],
   "source": [
    "class Person:\n",
    "    def __init__(self,first_name,last_name):\n",
    "        self.first_name=first_name\n",
    "        self.last_name=last_name\n",
    "    def fullname(self):\n",
    "        return f\"{self.first_name}  {self.last_name}\"\n",
    "\n",
    "class Employee(Person):\n",
    "    def __init__(self,posion):\n",
    "        self.posion=posion\n",
    "    def job(self):\n",
    "        return f\" i am {self.first_name}  {self.last_name} in {self.posion} posion  \"\n",
    "employee1=Employee(\"melika\",\"abedi\",\"cto\")\n",
    "print(employee1.job())  "
   ]
  },
  {
   "cell_type": "code",
   "execution_count": 30,
   "id": "03a90be1",
   "metadata": {},
   "outputs": [
    {
     "name": "stdout",
     "output_type": "stream",
     "text": [
      " i am melika  abedi in cto posion  \n"
     ]
    }
   ],
   "source": [
    "class Person:\n",
    "    def __init__(self,first_name,last_name):\n",
    "        self.first_name=first_name\n",
    "        self.last_name=last_name\n",
    "    def fullname(self):\n",
    "        return f\"{self.first_name}  {self.last_name}\"\n",
    "\n",
    "class Employee(Person):\n",
    "    def __init__(self,first_name,last_name,posion):\n",
    "        Person.__init__(self,first_name,last_name)\n",
    "        self.posion=posion\n",
    "    def job(self):\n",
    "        return f\" i am {self.first_name}  {self.last_name} in {self.posion} posion  \"\n",
    "employee1=Employee(\"melika\",\"abedi\",\"cto\")\n",
    "print(employee1.job())  "
   ]
  },
  {
   "cell_type": "markdown",
   "id": "6b8f0499",
   "metadata": {},
   "source": [
    "or we can use super instead of name of parent class"
   ]
  },
  {
   "cell_type": "code",
   "execution_count": 34,
   "id": "9563a876",
   "metadata": {},
   "outputs": [
    {
     "name": "stdout",
     "output_type": "stream",
     "text": [
      " i am melika  abedi in cto posion  \n"
     ]
    }
   ],
   "source": [
    "class Person:\n",
    "    def __init__(self,first_name,last_name):\n",
    "        self.first_name=first_name\n",
    "        self.last_name=last_name\n",
    "    def fullname(self):\n",
    "        return f\"{self.first_name}  {self.last_name}\"\n",
    "\n",
    "class Employee(Person):\n",
    "    def __init__(self,first_name,last_name,posion):\n",
    "        super().__init__(first_name,last_name)\n",
    "        self.posion=posion\n",
    "    def job(self):\n",
    "        return f\" i am {self.first_name}  {self.last_name} in {self.posion} posion  \"\n",
    "employee1=Employee(\"melika\",\"abedi\",\"cto\")\n",
    "print(employee1.job()) "
   ]
  },
  {
   "cell_type": "code",
   "execution_count": 36,
   "id": "be87b28a",
   "metadata": {},
   "outputs": [
    {
     "name": "stdout",
     "output_type": "stream",
     "text": [
      " i am melika  abedi in marketing posion  \n",
      "3000\n",
      " i am melika  abedi in cto posion  \n",
      "6000\n"
     ]
    }
   ],
   "source": [
    "class Person:\n",
    "    def __init__(self,first_name,last_name):\n",
    "        self.first_name=first_name\n",
    "        self.last_name=last_name\n",
    "    def fullname(self):\n",
    "        return f\"{self.first_name}  {self.last_name}\"\n",
    "\n",
    "class Employee(Person):\n",
    "    salary=3000\n",
    "    def __init__(self,first_name,last_name,posion):\n",
    "        super().__init__(first_name,last_name)\n",
    "        self.posion=posion\n",
    "    def job(self):\n",
    "        return f\" i am {self.first_name}  {self.last_name} in {self.posion} posion  \"\n",
    "\n",
    "class Cto(Employee):\n",
    "    salary=6000\n",
    "    def job(self):\n",
    "        return f\" i am {self.first_name}  {self.last_name} in cto posion  \"\n",
    "employee1=Employee(\"melika\",\"abedi\",\"marketing\")\n",
    "employee2=Cto(\"melika\",\"abedi\",\"marketing\")\n",
    "print(employee1.job()) \n",
    "print(employee1.salary)\n",
    "print(employee2.job()) \n",
    "print(employee2.salary)"
   ]
  },
  {
   "cell_type": "code",
   "execution_count": 39,
   "id": "e717611b",
   "metadata": {},
   "outputs": [
    {
     "name": "stdout",
     "output_type": "stream",
     "text": [
      "can fire\n"
     ]
    }
   ],
   "source": [
    "class Person:\n",
    "    def __init__(self,first_name,last_name):\n",
    "        self.first_name=first_name\n",
    "        self.last_name=last_name\n",
    "    def fullname(self):\n",
    "        return f\"{self.first_name}  {self.last_name}\"\n",
    "\n",
    "class Employee(Person):\n",
    "    salary=3000\n",
    "    def __init__(self,first_name,last_name,posion):\n",
    "        super().__init__(first_name,last_name)\n",
    "        self.posion=posion\n",
    "    def job(self):\n",
    "        return f\" i am {self.first_name}  {self.last_name} in {self.posion} posion  \"\n",
    "class Manager():\n",
    "    def authority(self):\n",
    "        return \"can fire\"\n",
    "class Cto(Employee,Manager):\n",
    "    salary=6000\n",
    "    def job(self):\n",
    "        return f\" i am {self.first_name}  {self.last_name} in cto posion  \"\n",
    "employee1=Cto(\"melika\",\"abedi\",\"cto\")\n",
    "print(employee1.authority()) \n"
   ]
  },
  {
   "cell_type": "code",
   "execution_count": 49,
   "id": "0c670778",
   "metadata": {},
   "outputs": [
    {
     "name": "stdout",
     "output_type": "stream",
     "text": [
      "can fire\n"
     ]
    }
   ],
   "source": [
    "class Person:\n",
    "    def __init__(self,first_name,last_name):\n",
    "        self.first_name=first_name\n",
    "        self.last_name=last_name\n",
    "    def fullname(self):\n",
    "        return f\"{self.first_name}  {self.last_name}\"\n",
    "\n",
    "class Employee(Person):\n",
    "    salary=3000\n",
    "    def __init__(self,first_name,last_name,posion):\n",
    "        super().__init__(first_name,last_name)\n",
    "        self.posion=posion\n",
    "    def job(self):\n",
    "        return f\" i am {self.first_name}  {self.last_name} in {self.posion} posion  \"\n",
    "class Manager():\n",
    "    def authority(self):\n",
    "        return \"can fire\"\n",
    "class Cto(Employee,Manager):\n",
    "    def __init__(self,first_name,last_name,posion):\n",
    "        super().__init__(first_name,last_name,posion)\n",
    "        self.posion=\"cto\"\n",
    "    salary=6000\n",
    "    def job(self):\n",
    "        return f\" i am {self.first_name}  {self.last_name} in cto posion  \"\n",
    "employee1=Cto(\"melika\",\"abedi\",\"cto\")\n",
    "print(employee1.authority()) \n"
   ]
  },
  {
   "cell_type": "code",
   "execution_count": null,
   "id": "e6ffa4b7",
   "metadata": {},
   "outputs": [],
   "source": []
  }
 ],
 "metadata": {
  "kernelspec": {
   "display_name": "Python 3 (ipykernel)",
   "language": "python",
   "name": "python3"
  },
  "language_info": {
   "codemirror_mode": {
    "name": "ipython",
    "version": 3
   },
   "file_extension": ".py",
   "mimetype": "text/x-python",
   "name": "python",
   "nbconvert_exporter": "python",
   "pygments_lexer": "ipython3",
   "version": "3.11.4"
  }
 },
 "nbformat": 4,
 "nbformat_minor": 5
}
