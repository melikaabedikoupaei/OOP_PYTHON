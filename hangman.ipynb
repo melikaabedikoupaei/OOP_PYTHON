{
 "cells": [
  {
   "cell_type": "code",
   "execution_count": 82,
   "id": "00b971c5",
   "metadata": {
    "scrolled": true
   },
   "outputs": [
    {
     "name": "stdout",
     "output_type": "stream",
     "text": [
      "what is your word melika\n",
      "enter your guess letter m\n",
      "['m', '_', '_', '_', '_', '_']\n",
      "m was in the 1place of the word\n",
      "can you guess the word now?metyrtuj\n",
      "nopeeee you lose one chance your chance is 5\n",
      "enter your guess letter k\n",
      "['m', '_', '_', '_', 'k', '_']\n",
      "k was in the 5place of the word\n",
      "can you guess the word now?etreg\n",
      "nopeeee you lose one chance your chance is 4\n",
      "enter your guess letter n\n",
      "['m', '_', '_', '_', 'k', '_']\n",
      "n is not in word\n",
      "can you guess the word now?trdftgrf\n",
      "nopeeee you lose one chance your chance is 3\n",
      "enter your guess letter n\n",
      "['m', '_', '_', '_', 'k', '_']\n",
      "n is not in word\n",
      "can you guess the word now?tfgd\n",
      "nopeeee you lose one chance your chance is 2\n",
      "enter your guess letter g\n",
      "['m', '_', '_', '_', 'k', '_']\n",
      "g is not in word\n",
      "can you guess the word now?eg\n",
      "nopeeee you lose one chance your chance is 1\n",
      "enter your guess letter h\n",
      "['m', '_', '_', '_', 'k', '_']\n",
      "h is not in word\n",
      "can you guess the word now?rdsyg\n",
      "nopeeee you lose one chance your chance is 0\n"
     ]
    }
   ],
   "source": [
    "import random\n",
    "class HangmanoGame():\n",
    "    chance=6\n",
    "    win_state=False\n",
    "    def __init__(self):\n",
    "        self.word=input(\"what is your word \")\n",
    "        self.guest_list= ['_' for _ in range(len(self.word))]\n",
    "    def replace(self):\n",
    "        found =False\n",
    "        self.letter=input(\"enter your guess letter \")\n",
    "        for index, char in enumerate (self.word):\n",
    "            if char == self.letter:\n",
    "                self.guest_list[index]=char\n",
    "                print(self.guest_list)\n",
    "                print(f\"{char} was in the {index+1}place of the word\")\n",
    "                found=True\n",
    "        if not found:\n",
    "            print(self.guest_list)\n",
    "            print(f\"{self.letter} is not in word\")\n",
    "    def guess_whole_word(self):\n",
    "        whole_word_guess=input(\"can you guess the word now?\")\n",
    "        if whole_word_guess==self.word:\n",
    "            self.win_state=True\n",
    "            print(\"you win\")\n",
    "        else:\n",
    "            self.chance-=1\n",
    "            print(f\"nopeeee you lose one chance your chance is {self.chance}\")\n",
    "            \n",
    "                \n",
    "a=HangmanoGame()       \n",
    "while a.win_state==False and a.chance>0 :\n",
    "    a.replace()\n",
    "    a.guess_whole_word()\n",
    " "
   ]
  }
 ],
 "metadata": {
  "kernelspec": {
   "display_name": "Python 3 (ipykernel)",
   "language": "python",
   "name": "python3"
  },
  "language_info": {
   "codemirror_mode": {
    "name": "ipython",
    "version": 3
   },
   "file_extension": ".py",
   "mimetype": "text/x-python",
   "name": "python",
   "nbconvert_exporter": "python",
   "pygments_lexer": "ipython3",
   "version": "3.11.4"
  }
 },
 "nbformat": 4,
 "nbformat_minor": 5
}
