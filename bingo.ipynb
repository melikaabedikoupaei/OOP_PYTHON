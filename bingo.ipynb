{
 "cells": [
  {
   "cell_type": "code",
   "execution_count": 28,
   "id": "d5ba0c3a",
   "metadata": {},
   "outputs": [
    {
     "name": "stdout",
     "output_type": "stream",
     "text": [
      "Enter your guess: 3\n",
      "higher\n",
      "You have 2 guesses left.\n",
      "Enter your guess: 5\n",
      "bingo\n",
      "Congratulations! You guessed the correct number.\n"
     ]
    }
   ],
   "source": [
    "import random\n",
    "\n",
    "rand_num = random.randint(0, 5)\n",
    "guess_left = 3\n",
    "\n",
    "def check(answer):\n",
    "    if answer > rand_num:\n",
    "        return (False, \"lower\")\n",
    "    elif answer < rand_num:\n",
    "        return (False, \"higher\")\n",
    "    else:\n",
    "        return (True, \"bingo\")\n",
    "\n",
    "for i in range(guess_left):\n",
    "    your_answer = int(input(\"Enter your guess: \"))\n",
    "    result = check(your_answer)\n",
    "    print(result[1])\n",
    "\n",
    "    if result[0]:\n",
    "        print(\"Congratulations! You guessed the correct number.\")\n",
    "        break\n",
    "    else:\n",
    "        print(f\"You have {guess_left - (i + 1)} guesses left.\")\n"
   ]
  },
  {
   "cell_type": "code",
   "execution_count": null,
   "id": "e4dcdfd0",
   "metadata": {},
   "outputs": [],
   "source": []
  },
  {
   "cell_type": "code",
   "execution_count": null,
   "id": "14a375e0",
   "metadata": {},
   "outputs": [],
   "source": []
  }
 ],
 "metadata": {
  "kernelspec": {
   "display_name": "Python 3 (ipykernel)",
   "language": "python",
   "name": "python3"
  },
  "language_info": {
   "codemirror_mode": {
    "name": "ipython",
    "version": 3
   },
   "file_extension": ".py",
   "mimetype": "text/x-python",
   "name": "python",
   "nbconvert_exporter": "python",
   "pygments_lexer": "ipython3",
   "version": "3.11.4"
  }
 },
 "nbformat": 4,
 "nbformat_minor": 5
}
