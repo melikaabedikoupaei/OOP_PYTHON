{
 "cells": [
  {
   "cell_type": "code",
   "execution_count": 1,
   "id": "6bfade21",
   "metadata": {},
   "outputs": [
    {
     "name": "stdout",
     "output_type": "stream",
     "text": [
      "Enter your guess: 4\n",
      "bingo\n",
      "Congratulations! You guessed the correct number.\n"
     ]
    }
   ],
   "source": [
    "import random\n",
    "\n",
    "rand_num = random.randint(0, 5)\n",
    "guess_left = 3\n",
    "\n",
    "def check(answer):\n",
    "    if answer > rand_num:\n",
    "        return (False, \"lower\")\n",
    "    elif answer < rand_num:\n",
    "        return (False, \"higher\")\n",
    "    else:\n",
    "        return (True, \"bingo\")\n",
    "\n",
    "for i in range(guess_left):\n",
    "    your_answer = int(input(\"Enter your guess: \"))\n",
    "    result = check(your_answer)\n",
    "    print(result[1])\n",
    "\n",
    "    if result[0]:\n",
    "        print(\"Congratulations! You guessed the correct number.\")\n",
    "        break\n",
    "    else:\n",
    "        print(f\"You have {guess_left - (i + 1)} guesses left.\")\n"
   ]
  },
  {
   "cell_type": "code",
   "execution_count": 7,
   "id": "8abd13cd",
   "metadata": {},
   "outputs": [
    {
     "name": "stdout",
     "output_type": "stream",
     "text": [
      "what do you want to do? add\n",
      "enter your namemelika\n",
      "what do you want to do? start\n",
      "\n",
      "melika,enter your answer2\n",
      "bingo\n",
      "2 guesses is left\n",
      "what do you want to do? ثطهف\n",
      "what do you want to do? exit\n"
     ]
    }
   ],
   "source": [
    "import random\n",
    "class BingoGame():\n",
    "    player_list=[]\n",
    "    def __init__(self):\n",
    "        self.name=input(\"enter your name\")\n",
    "        self.rand_num=random.randint(0,5)\n",
    "        self.guess_left=3\n",
    "        self.player_list.append(self)\n",
    "        self.win_state=False\n",
    "    def check(self):\n",
    "        answer=int(input(f\"\\n{self.name},enter your answer \"))\n",
    "        if answer > self.rand_num:\n",
    "            print(\"lower\")\n",
    "        elif answer < self.rand_num:\n",
    "            print(\"higher\")\n",
    "        else:\n",
    "            print(\"bingo\")\n",
    "            self.win_state=True\n",
    "        self.__minus_guess_left() \n",
    "        print(f\"{self.guess_left} guesses is left\")\n",
    "    #make this function private\n",
    "    def __minus_guess_left(self):\n",
    "        self.guess_left-=1\n",
    "    def __has_guess_left(self):\n",
    "        if self.guess_left>0:\n",
    "            return True\n",
    "        return False\n",
    "    def has_won(self):\n",
    "        return self.win_state\n",
    "    \n",
    "    # I want to know is there any winner so it is about whole class i use classmethod\n",
    "    \n",
    "    @classmethod\n",
    "    def game_has_winner(cls):\n",
    "        if any(player.has_won()is True for player in cls.player_list ):\n",
    "            return True\n",
    "        return False\n",
    "    \n",
    "class Gamecontroler():\n",
    "    def __init__(self):\n",
    "        while True:\n",
    "            for player in BingoGame.player_list:\n",
    "                if not player.has_won():\n",
    "                    player.check()\n",
    "            if BingoGame.game_has_winner():\n",
    "                break\n",
    "\n",
    "     \n",
    "        \n",
    "if __name__==\"__main__\":\n",
    "    while True:\n",
    "        order=input(\"what do you want to do? \")\n",
    "        if order==\"add\":\n",
    "            BingoGame()\n",
    "        if order==\"start\":\n",
    "            Gamecontroler()\n",
    "            \n",
    "        if order==\"exit\":\n",
    "            break\n",
    "               \n",
    "\n"
   ]
  },
  {
   "cell_type": "code",
   "execution_count": null,
   "id": "f4fd6c2c",
   "metadata": {},
   "outputs": [],
   "source": []
  }
 ],
 "metadata": {
  "kernelspec": {
   "display_name": "Python 3 (ipykernel)",
   "language": "python",
   "name": "python3"
  },
  "language_info": {
   "codemirror_mode": {
    "name": "ipython",
    "version": 3
   },
   "file_extension": ".py",
   "mimetype": "text/x-python",
   "name": "python",
   "nbconvert_exporter": "python",
   "pygments_lexer": "ipython3",
   "version": "3.11.4"
  }
 },
 "nbformat": 4,
 "nbformat_minor": 5
}
